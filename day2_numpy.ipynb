{
  "nbformat": 4,
  "nbformat_minor": 0,
  "metadata": {
    "colab": {
      "provenance": []
    },
    "kernelspec": {
      "name": "python3",
      "display_name": "Python 3"
    },
    "language_info": {
      "name": "python"
    }
  },
  "cells": [
    {
      "cell_type": "code",
      "execution_count": null,
      "metadata": {
        "colab": {
          "base_uri": "https://localhost:8080/"
        },
        "id": "3-0IlgJO7IRd",
        "outputId": "6013bb33-8976-45f2-ee71-2e8ca63c6620"
      },
      "outputs": [
        {
          "output_type": "stream",
          "name": "stdout",
          "text": [
            "[[1. 1. 1. 1.]\n",
            " [1. 1. 1. 1.]\n",
            " [1. 1. 1. 1.]\n",
            " [1. 1. 1. 1.]\n",
            " [1. 1. 1. 1.]\n",
            " [1. 1. 1. 1.]\n",
            " [1. 1. 1. 1.]\n",
            " [1. 1. 1. 1.]]\n"
          ]
        }
      ],
      "source": [
        "e=np.ones((8,4))\n",
        "print(e)"
      ]
    },
    {
      "cell_type": "code",
      "source": [
        "import numpy as np"
      ],
      "metadata": {
        "id": "v1Y-W1A47jOw"
      },
      "execution_count": null,
      "outputs": []
    },
    {
      "cell_type": "code",
      "source": [
        "a=np.random.rand(1)\n",
        "print(a)"
      ],
      "metadata": {
        "colab": {
          "base_uri": "https://localhost:8080/"
        },
        "id": "ubu7agyY9kNb",
        "outputId": "f04b3460-8574-4511-d2e9-151461674531"
      },
      "execution_count": null,
      "outputs": [
        {
          "output_type": "stream",
          "name": "stdout",
          "text": [
            "[0.33774541]\n"
          ]
        }
      ]
    },
    {
      "cell_type": "code",
      "source": [
        "b=np.random.rand(8,4)\n",
        "print(b)"
      ],
      "metadata": {
        "colab": {
          "base_uri": "https://localhost:8080/"
        },
        "id": "bnkgmuRE9xoN",
        "outputId": "93bdadfc-b5d6-4e07-ffa8-cb0ca4346f4a"
      },
      "execution_count": null,
      "outputs": [
        {
          "output_type": "stream",
          "name": "stdout",
          "text": [
            "[[0.61022913 0.31915817 0.92696076 0.35241207]\n",
            " [0.08763641 0.80778529 0.76516328 0.5759775 ]\n",
            " [0.93828765 0.66463484 0.26581922 0.06358916]\n",
            " [0.54600886 0.98415915 0.40017377 0.41763623]\n",
            " [0.67182015 0.32459871 0.11574322 0.27530793]\n",
            " [0.68145765 0.95886254 0.07845877 0.78362999]\n",
            " [0.09557125 0.66527418 0.46317755 0.12904877]\n",
            " [0.22195369 0.6253433  0.29057924 0.3338961 ]]\n"
          ]
        }
      ]
    },
    {
      "cell_type": "code",
      "source": [
        "b=10*np.random.rand(8,4)\n",
        "print(b)"
      ],
      "metadata": {
        "colab": {
          "base_uri": "https://localhost:8080/"
        },
        "id": "bDW35O5X-6XL",
        "outputId": "b91b15f0-e83d-47f9-f6bf-acb88e17a7d2"
      },
      "execution_count": null,
      "outputs": [
        {
          "output_type": "stream",
          "name": "stdout",
          "text": [
            "[[7.35006443 0.14916663 1.76737955 4.63051758]\n",
            " [3.42050147 7.9001144  5.35016643 4.76773327]\n",
            " [6.35398539 8.18919243 4.72284485 3.80670806]\n",
            " [1.50007446 9.96775186 5.2708218  5.03050082]\n",
            " [2.13436321 9.49585042 3.67651551 6.37604585]\n",
            " [6.43947709 9.87441721 6.06829171 8.10245741]\n",
            " [6.04258812 9.791279   7.27923555 0.02327203]\n",
            " [0.12142499 1.90201817 2.40199736 8.81118608]]\n"
          ]
        }
      ]
    },
    {
      "cell_type": "code",
      "source": [
        "b=np.floor(10*np.random.rand(8,4))\n",
        "print(b)"
      ],
      "metadata": {
        "colab": {
          "base_uri": "https://localhost:8080/"
        },
        "id": "DQ-xLALr_W0h",
        "outputId": "4909d526-c720-48d9-ea37-03b9956e8da1"
      },
      "execution_count": null,
      "outputs": [
        {
          "output_type": "stream",
          "name": "stdout",
          "text": [
            "[[9. 9. 2. 5.]\n",
            " [5. 2. 8. 5.]\n",
            " [2. 5. 0. 1.]\n",
            " [2. 2. 9. 1.]\n",
            " [1. 3. 3. 4.]\n",
            " [3. 6. 0. 4.]\n",
            " [7. 5. 5. 0.]\n",
            " [7. 6. 3. 3.]]\n"
          ]
        }
      ]
    },
    {
      "cell_type": "code",
      "source": [
        "a=np.arange(1,33).reshape(8,4)\n",
        "print(a)"
      ],
      "metadata": {
        "colab": {
          "base_uri": "https://localhost:8080/"
        },
        "id": "FrAislsLAYom",
        "outputId": "1a927c48-cd07-483f-9117-8922574bc8a8"
      },
      "execution_count": null,
      "outputs": [
        {
          "output_type": "stream",
          "name": "stdout",
          "text": [
            "[[ 1  2  3  4]\n",
            " [ 5  6  7  8]\n",
            " [ 9 10 11 12]\n",
            " [13 14 15 16]\n",
            " [17 18 19 20]\n",
            " [21 22 23 24]\n",
            " [25 26 27 28]\n",
            " [29 30 31 32]]\n"
          ]
        }
      ]
    },
    {
      "cell_type": "code",
      "source": [
        "np.vsplit(a,4)"
      ],
      "metadata": {
        "colab": {
          "base_uri": "https://localhost:8080/"
        },
        "id": "4WSjt5g-Atd3",
        "outputId": "d03c1970-da1b-44b9-c690-75c5166bd721"
      },
      "execution_count": null,
      "outputs": [
        {
          "output_type": "execute_result",
          "data": {
            "text/plain": [
              "[array([[1, 2, 3, 4],\n",
              "        [5, 6, 7, 8]]),\n",
              " array([[ 9, 10, 11, 12],\n",
              "        [13, 14, 15, 16]]),\n",
              " array([[17, 18, 19, 20],\n",
              "        [21, 22, 23, 24]]),\n",
              " array([[25, 26, 27, 28],\n",
              "        [29, 30, 31, 32]])]"
            ]
          },
          "metadata": {},
          "execution_count": 19
        }
      ]
    },
    {
      "cell_type": "code",
      "source": [
        "np.vsplit(a,3)"
      ],
      "metadata": {
        "colab": {
          "base_uri": "https://localhost:8080/",
          "height": 321
        },
        "id": "xks1iF5-BVMK",
        "outputId": "0900c6b3-255c-4847-e8ad-19df33db78af"
      },
      "execution_count": null,
      "outputs": [
        {
          "output_type": "error",
          "ename": "ValueError",
          "evalue": "array split does not result in an equal division",
          "traceback": [
            "\u001b[0;31m---------------------------------------------------------------------------\u001b[0m",
            "\u001b[0;31mValueError\u001b[0m                                Traceback (most recent call last)",
            "\u001b[0;32m<ipython-input-24-6a62d06336cc>\u001b[0m in \u001b[0;36m<cell line: 1>\u001b[0;34m()\u001b[0m\n\u001b[0;32m----> 1\u001b[0;31m \u001b[0mnp\u001b[0m\u001b[0;34m.\u001b[0m\u001b[0mvsplit\u001b[0m\u001b[0;34m(\u001b[0m\u001b[0ma\u001b[0m\u001b[0;34m,\u001b[0m\u001b[0;36m3\u001b[0m\u001b[0;34m)\u001b[0m\u001b[0;34m\u001b[0m\u001b[0;34m\u001b[0m\u001b[0m\n\u001b[0m",
            "\u001b[0;32m/usr/local/lib/python3.10/dist-packages/numpy/core/overrides.py\u001b[0m in \u001b[0;36mvsplit\u001b[0;34m(*args, **kwargs)\u001b[0m\n",
            "\u001b[0;32m/usr/local/lib/python3.10/dist-packages/numpy/lib/shape_base.py\u001b[0m in \u001b[0;36mvsplit\u001b[0;34m(ary, indices_or_sections)\u001b[0m\n\u001b[1;32m    995\u001b[0m     \u001b[0;32mif\u001b[0m \u001b[0m_nx\u001b[0m\u001b[0;34m.\u001b[0m\u001b[0mndim\u001b[0m\u001b[0;34m(\u001b[0m\u001b[0mary\u001b[0m\u001b[0;34m)\u001b[0m \u001b[0;34m<\u001b[0m \u001b[0;36m2\u001b[0m\u001b[0;34m:\u001b[0m\u001b[0;34m\u001b[0m\u001b[0;34m\u001b[0m\u001b[0m\n\u001b[1;32m    996\u001b[0m         \u001b[0;32mraise\u001b[0m \u001b[0mValueError\u001b[0m\u001b[0;34m(\u001b[0m\u001b[0;34m'vsplit only works on arrays of 2 or more dimensions'\u001b[0m\u001b[0;34m)\u001b[0m\u001b[0;34m\u001b[0m\u001b[0;34m\u001b[0m\u001b[0m\n\u001b[0;32m--> 997\u001b[0;31m     \u001b[0;32mreturn\u001b[0m \u001b[0msplit\u001b[0m\u001b[0;34m(\u001b[0m\u001b[0mary\u001b[0m\u001b[0;34m,\u001b[0m \u001b[0mindices_or_sections\u001b[0m\u001b[0;34m,\u001b[0m \u001b[0;36m0\u001b[0m\u001b[0;34m)\u001b[0m\u001b[0;34m\u001b[0m\u001b[0;34m\u001b[0m\u001b[0m\n\u001b[0m\u001b[1;32m    998\u001b[0m \u001b[0;34m\u001b[0m\u001b[0m\n\u001b[1;32m    999\u001b[0m \u001b[0;34m\u001b[0m\u001b[0m\n",
            "\u001b[0;32m/usr/local/lib/python3.10/dist-packages/numpy/core/overrides.py\u001b[0m in \u001b[0;36msplit\u001b[0;34m(*args, **kwargs)\u001b[0m\n",
            "\u001b[0;32m/usr/local/lib/python3.10/dist-packages/numpy/lib/shape_base.py\u001b[0m in \u001b[0;36msplit\u001b[0;34m(ary, indices_or_sections, axis)\u001b[0m\n\u001b[1;32m    870\u001b[0m         \u001b[0mN\u001b[0m \u001b[0;34m=\u001b[0m \u001b[0mary\u001b[0m\u001b[0;34m.\u001b[0m\u001b[0mshape\u001b[0m\u001b[0;34m[\u001b[0m\u001b[0maxis\u001b[0m\u001b[0;34m]\u001b[0m\u001b[0;34m\u001b[0m\u001b[0;34m\u001b[0m\u001b[0m\n\u001b[1;32m    871\u001b[0m         \u001b[0;32mif\u001b[0m \u001b[0mN\u001b[0m \u001b[0;34m%\u001b[0m \u001b[0msections\u001b[0m\u001b[0;34m:\u001b[0m\u001b[0;34m\u001b[0m\u001b[0;34m\u001b[0m\u001b[0m\n\u001b[0;32m--> 872\u001b[0;31m             raise ValueError(\n\u001b[0m\u001b[1;32m    873\u001b[0m                 'array split does not result in an equal division') from None\n\u001b[1;32m    874\u001b[0m     \u001b[0;32mreturn\u001b[0m \u001b[0marray_split\u001b[0m\u001b[0;34m(\u001b[0m\u001b[0mary\u001b[0m\u001b[0;34m,\u001b[0m \u001b[0mindices_or_sections\u001b[0m\u001b[0;34m,\u001b[0m \u001b[0maxis\u001b[0m\u001b[0;34m)\u001b[0m\u001b[0;34m\u001b[0m\u001b[0;34m\u001b[0m\u001b[0m\n",
            "\u001b[0;31mValueError\u001b[0m: array split does not result in an equal division"
          ]
        }
      ]
    },
    {
      "cell_type": "code",
      "source": [
        "np.vsplit(a,(1,3,6))"
      ],
      "metadata": {
        "colab": {
          "base_uri": "https://localhost:8080/"
        },
        "id": "LCj_L-pKBwe9",
        "outputId": "a7269d2c-ab02-4bee-9722-4a8e3d182f02"
      },
      "execution_count": null,
      "outputs": [
        {
          "output_type": "execute_result",
          "data": {
            "text/plain": [
              "[array([[1, 2, 3, 4]]),\n",
              " array([[ 5,  6,  7,  8],\n",
              "        [ 9, 10, 11, 12]]),\n",
              " array([[13, 14, 15, 16],\n",
              "        [17, 18, 19, 20],\n",
              "        [21, 22, 23, 24]]),\n",
              " array([[25, 26, 27, 28],\n",
              "        [29, 30, 31, 32]])]"
            ]
          },
          "metadata": {},
          "execution_count": 33
        }
      ]
    },
    {
      "cell_type": "code",
      "source": [
        "a=np.arange(1,33).reshape(4,8)\n",
        "print(a)"
      ],
      "metadata": {
        "colab": {
          "base_uri": "https://localhost:8080/"
        },
        "id": "KkUVN6BTDVb_",
        "outputId": "c509cd14-ea52-4ea6-ea86-6c5868c0465f"
      },
      "execution_count": null,
      "outputs": [
        {
          "output_type": "stream",
          "name": "stdout",
          "text": [
            "[[ 1  2  3  4  5  6  7  8]\n",
            " [ 9 10 11 12 13 14 15 16]\n",
            " [17 18 19 20 21 22 23 24]\n",
            " [25 26 27 28 29 30 31 32]]\n"
          ]
        }
      ]
    },
    {
      "cell_type": "code",
      "source": [
        "np.hsplit(a,4)"
      ],
      "metadata": {
        "colab": {
          "base_uri": "https://localhost:8080/"
        },
        "id": "5-nK0QbDDt5j",
        "outputId": "81a8a0e9-0463-4e47-de5d-8182e9bb3a29"
      },
      "execution_count": null,
      "outputs": [
        {
          "output_type": "execute_result",
          "data": {
            "text/plain": [
              "[array([[ 1,  2],\n",
              "        [ 9, 10],\n",
              "        [17, 18],\n",
              "        [25, 26]]),\n",
              " array([[ 3,  4],\n",
              "        [11, 12],\n",
              "        [19, 20],\n",
              "        [27, 28]]),\n",
              " array([[ 5,  6],\n",
              "        [13, 14],\n",
              "        [21, 22],\n",
              "        [29, 30]]),\n",
              " array([[ 7,  8],\n",
              "        [15, 16],\n",
              "        [23, 24],\n",
              "        [31, 32]])]"
            ]
          },
          "metadata": {},
          "execution_count": 35
        }
      ]
    },
    {
      "cell_type": "code",
      "source": [
        "np.hsplit(a,(2,7 ))"
      ],
      "metadata": {
        "colab": {
          "base_uri": "https://localhost:8080/"
        },
        "id": "wRB9rj5QHVN3",
        "outputId": "93be00d8-cdea-46a4-9df2-1aaca259dd9d"
      },
      "execution_count": null,
      "outputs": [
        {
          "output_type": "execute_result",
          "data": {
            "text/plain": [
              "[array([[ 1,  2],\n",
              "        [ 9, 10],\n",
              "        [17, 18],\n",
              "        [25, 26]]),\n",
              " array([[ 3,  4,  5,  6,  7],\n",
              "        [11, 12, 13, 14, 15],\n",
              "        [19, 20, 21, 22, 23],\n",
              "        [27, 28, 29, 30, 31]]),\n",
              " array([[ 8],\n",
              "        [16],\n",
              "        [24],\n",
              "        [32]])]"
            ]
          },
          "metadata": {},
          "execution_count": 44
        }
      ]
    },
    {
      "cell_type": "markdown",
      "source": [
        "tignometry"
      ],
      "metadata": {
        "id": "u4jgCBL_HiFE"
      }
    },
    {
      "cell_type": "code",
      "source": [
        " np.pi"
      ],
      "metadata": {
        "colab": {
          "base_uri": "https://localhost:8080/"
        },
        "id": "oqcJlf-bECcw",
        "outputId": "5b9e4d7a-99af-4fd3-a6ea-ee807d4a2f87"
      },
      "execution_count": null,
      "outputs": [
        {
          "output_type": "execute_result",
          "data": {
            "text/plain": [
              "3.141592653589793"
            ]
          },
          "metadata": {},
          "execution_count": 43
        }
      ]
    },
    {
      "cell_type": "code",
      "source": [
        "v=[np.pi/4,np.pi/3,np.pi/2,np.pi]\n",
        "print(v)"
      ],
      "metadata": {
        "colab": {
          "base_uri": "https://localhost:8080/"
        },
        "id": "dUwg91thIN-r",
        "outputId": "d86efd8b-cf38-418d-88b6-ac4e8d69a62a"
      },
      "execution_count": null,
      "outputs": [
        {
          "output_type": "stream",
          "name": "stdout",
          "text": [
            "[0.7853981633974483, 1.0471975511965976, 1.5707963267948966, 3.141592653589793]\n"
          ]
        }
      ]
    },
    {
      "cell_type": "code",
      "source": [
        "b=np.rad2deg(v)\n",
        "print(b)"
      ],
      "metadata": {
        "colab": {
          "base_uri": "https://localhost:8080/"
        },
        "id": "PbKiKJviIVMI",
        "outputId": "986dda18-274b-4031-9a7b-564fd46d00b2"
      },
      "execution_count": null,
      "outputs": [
        {
          "output_type": "stream",
          "name": "stdout",
          "text": [
            "[ 45.  60.  90. 180.]\n"
          ]
        }
      ]
    },
    {
      "cell_type": "code",
      "source": [
        "np.deg2rad(b)"
      ],
      "metadata": {
        "colab": {
          "base_uri": "https://localhost:8080/"
        },
        "id": "FH79NS4hIrPB",
        "outputId": "f6ed5850-434d-49ac-e4c0-dadf6d252ef1"
      },
      "execution_count": null,
      "outputs": [
        {
          "output_type": "execute_result",
          "data": {
            "text/plain": [
              "array([0.78539816, 1.04719755, 1.57079633, 3.14159265])"
            ]
          },
          "metadata": {},
          "execution_count": 53
        }
      ]
    },
    {
      "cell_type": "code",
      "source": [
        "np.sin(1)"
      ],
      "metadata": {
        "colab": {
          "base_uri": "https://localhost:8080/"
        },
        "id": "Pt9gLdEUJ_u1",
        "outputId": "30a4323d-9194-4e1d-8d67-26f987327b17"
      },
      "execution_count": null,
      "outputs": [
        {
          "output_type": "execute_result",
          "data": {
            "text/plain": [
              "0.8414709848078965"
            ]
          },
          "metadata": {},
          "execution_count": 55
        }
      ]
    },
    {
      "cell_type": "code",
      "source": [
        "np.cos(1)\n"
      ],
      "metadata": {
        "colab": {
          "base_uri": "https://localhost:8080/"
        },
        "id": "hmCeGtWfKPPK",
        "outputId": "c5b95cad-7962-4077-edac-55bd801e1965"
      },
      "execution_count": null,
      "outputs": [
        {
          "output_type": "execute_result",
          "data": {
            "text/plain": [
              "0.5403023058681398"
            ]
          },
          "metadata": {},
          "execution_count": 56
        }
      ]
    },
    {
      "cell_type": "code",
      "source": [
        "\n",
        "np.tan(1)"
      ],
      "metadata": {
        "colab": {
          "base_uri": "https://localhost:8080/"
        },
        "id": "QrlHFOCCKTll",
        "outputId": "1753bcc6-cda7-4c21-c678-c3727f95cf15"
      },
      "execution_count": null,
      "outputs": [
        {
          "output_type": "execute_result",
          "data": {
            "text/plain": [
              "1.5574077246549023"
            ]
          },
          "metadata": {},
          "execution_count": 57
        }
      ]
    },
    {
      "cell_type": "code",
      "source": [
        "st=np.array([23,45,67,89,21,34])"
      ],
      "metadata": {
        "id": "B0forjdLKfpd"
      },
      "execution_count": null,
      "outputs": []
    },
    {
      "cell_type": "code",
      "source": [
        "np.mean(st)"
      ],
      "metadata": {
        "colab": {
          "base_uri": "https://localhost:8080/"
        },
        "id": "PgdtkQbSKxPJ",
        "outputId": "3ee2f352-874d-44b4-e6e6-34b65879aa5a"
      },
      "execution_count": null,
      "outputs": [
        {
          "output_type": "execute_result",
          "data": {
            "text/plain": [
              "46.5"
            ]
          },
          "metadata": {},
          "execution_count": 60
        }
      ]
    },
    {
      "cell_type": "code",
      "source": [
        "np.median(st)"
      ],
      "metadata": {
        "colab": {
          "base_uri": "https://localhost:8080/"
        },
        "id": "foWZEZ-9K4nm",
        "outputId": "be9c402c-88f6-4db6-b6b1-97ef8d2881e1"
      },
      "execution_count": null,
      "outputs": [
        {
          "output_type": "execute_result",
          "data": {
            "text/plain": [
              "39.5"
            ]
          },
          "metadata": {},
          "execution_count": 61
        }
      ]
    },
    {
      "cell_type": "code",
      "source": [
        "np.var(st)"
      ],
      "metadata": {
        "colab": {
          "base_uri": "https://localhost:8080/"
        },
        "id": "wO9GlY-uLJiR",
        "outputId": "b0c54fea-2c5d-4822-cb07-d1a53bf9d6e4"
      },
      "execution_count": null,
      "outputs": [
        {
          "output_type": "execute_result",
          "data": {
            "text/plain": [
              "597.9166666666666"
            ]
          },
          "metadata": {},
          "execution_count": 62
        }
      ]
    },
    {
      "cell_type": "code",
      "source": [
        "np.std(st)"
      ],
      "metadata": {
        "colab": {
          "base_uri": "https://localhost:8080/"
        },
        "id": "Ibnr_zrPLkZF",
        "outputId": "02be6d97-c44b-4636-b4d6-61991dd7d4e9"
      },
      "execution_count": null,
      "outputs": [
        {
          "output_type": "execute_result",
          "data": {
            "text/plain": [
              "24.452334585202017"
            ]
          },
          "metadata": {},
          "execution_count": 63
        }
      ]
    },
    {
      "cell_type": "code",
      "source": [
        "c=np.arange(1,5).reshape(2,2)\n",
        "print(c)"
      ],
      "metadata": {
        "colab": {
          "base_uri": "https://localhost:8080/"
        },
        "id": "o-OtpdmGO3RU",
        "outputId": "34667df3-4adf-49d2-d17d-cab183b2fe44"
      },
      "execution_count": null,
      "outputs": [
        {
          "output_type": "stream",
          "name": "stdout",
          "text": [
            "[[1 2]\n",
            " [3 4]]\n"
          ]
        }
      ]
    },
    {
      "cell_type": "code",
      "source": [
        "np.linalg.inv(c)"
      ],
      "metadata": {
        "colab": {
          "base_uri": "https://localhost:8080/"
        },
        "id": "sQRTsInmOhpE",
        "outputId": "650b8122-366b-4593-e071-5ed65dd1c44d"
      },
      "execution_count": null,
      "outputs": [
        {
          "output_type": "execute_result",
          "data": {
            "text/plain": [
              "array([[-2. ,  1. ],\n",
              "       [ 1.5, -0.5]])"
            ]
          },
          "metadata": {},
          "execution_count": 65
        }
      ]
    },
    {
      "cell_type": "code",
      "source": [
        "d=np.arange(1,25).reshape(6,4)\n",
        "print(d)\n",
        "print(np.argmax(d))"
      ],
      "metadata": {
        "colab": {
          "base_uri": "https://localhost:8080/"
        },
        "id": "wCYSY09GP231",
        "outputId": "c2cac1f6-0c5c-488e-9123-6d85b586d9f5"
      },
      "execution_count": null,
      "outputs": [
        {
          "output_type": "stream",
          "name": "stdout",
          "text": [
            "[[ 1  2  3  4]\n",
            " [ 5  6  7  8]\n",
            " [ 9 10 11 12]\n",
            " [13 14 15 16]\n",
            " [17 18 19 20]\n",
            " [21 22 23 24]]\n",
            "23\n"
          ]
        }
      ]
    },
    {
      "cell_type": "code",
      "source": [
        "w=np.floor(10*np.random.rand(24)).reshape(6,4)\n",
        "print(w)"
      ],
      "metadata": {
        "colab": {
          "base_uri": "https://localhost:8080/"
        },
        "id": "6YiwkOYBQpvW",
        "outputId": "42246c3b-90be-47fe-e5d6-121b4ebfd248"
      },
      "execution_count": null,
      "outputs": [
        {
          "output_type": "stream",
          "name": "stdout",
          "text": [
            "[[2. 9. 4. 0.]\n",
            " [4. 6. 3. 2.]\n",
            " [4. 4. 2. 3.]\n",
            " [9. 5. 7. 0.]\n",
            " [4. 2. 2. 5.]\n",
            " [1. 6. 5. 7.]]\n"
          ]
        }
      ]
    },
    {
      "cell_type": "code",
      "source": [
        "print(np.argmax(w))"
      ],
      "metadata": {
        "colab": {
          "base_uri": "https://localhost:8080/"
        },
        "id": "Dcrgdq9gRqew",
        "outputId": "658610c8-00e9-40b8-86dd-9610322d4101"
      },
      "execution_count": null,
      "outputs": [
        {
          "output_type": "stream",
          "name": "stdout",
          "text": [
            "1\n"
          ]
        }
      ]
    },
    {
      "cell_type": "code",
      "source": [
        "c=10*np.random.rand(24).reshape(6,4)\n",
        "print(c)"
      ],
      "metadata": {
        "colab": {
          "base_uri": "https://localhost:8080/"
        },
        "id": "X8c5LwRSRMGF",
        "outputId": "0b070078-009c-4ecb-e1f1-c95fb5efb239"
      },
      "execution_count": null,
      "outputs": [
        {
          "output_type": "stream",
          "name": "stdout",
          "text": [
            "[[0.88154571 8.80232909 6.57320774 0.01897956]\n",
            " [9.72056378 0.95403888 1.96717758 0.08287385]\n",
            " [1.61591109 6.85799413 7.25203413 6.54706867]\n",
            " [1.686175   6.7048966  2.97008887 5.00272399]\n",
            " [9.67672259 3.40326774 4.51619177 6.10234591]\n",
            " [1.54907179 3.37033898 1.81703891 1.43383006]]\n"
          ]
        }
      ]
    },
    {
      "cell_type": "code",
      "source": [
        "print(np.argmax(c))"
      ],
      "metadata": {
        "colab": {
          "base_uri": "https://localhost:8080/"
        },
        "id": "bjqnmlhyRDtA",
        "outputId": "df3f0eb1-c4cd-475a-92e9-4adc53956eec"
      },
      "execution_count": null,
      "outputs": [
        {
          "output_type": "stream",
          "name": "stdout",
          "text": [
            "4\n"
          ]
        }
      ]
    },
    {
      "cell_type": "code",
      "source": [
        "print(np.argmax(c,axis=1))"
      ],
      "metadata": {
        "colab": {
          "base_uri": "https://localhost:8080/"
        },
        "id": "Y78bU5xSR53G",
        "outputId": "d9243468-06a0-4b40-9ae7-3e988558d259"
      },
      "execution_count": null,
      "outputs": [
        {
          "output_type": "stream",
          "name": "stdout",
          "text": [
            "[1 0 2 1 0 1]\n"
          ]
        }
      ]
    },
    {
      "cell_type": "code",
      "source": [
        "print(np.argmax(c,axis=0))"
      ],
      "metadata": {
        "colab": {
          "base_uri": "https://localhost:8080/"
        },
        "id": "iTh_j8e4TNod",
        "outputId": "cac3f7a4-d1c8-4c81-b4cf-b85e9a3992a0"
      },
      "execution_count": null,
      "outputs": [
        {
          "output_type": "stream",
          "name": "stdout",
          "text": [
            "[1 0 2 2]\n"
          ]
        }
      ]
    },
    {
      "cell_type": "code",
      "source": [
        "print(np.argmin(c,axis=0))"
      ],
      "metadata": {
        "colab": {
          "base_uri": "https://localhost:8080/"
        },
        "id": "2cUZOh4UU5iP",
        "outputId": "b39873e2-79c1-47ad-9440-ce84c40b51bf"
      },
      "execution_count": null,
      "outputs": [
        {
          "output_type": "stream",
          "name": "stdout",
          "text": [
            "[0 1 5 0]\n"
          ]
        }
      ]
    },
    {
      "cell_type": "code",
      "source": [
        "print(np.argmin(c,axis=1))"
      ],
      "metadata": {
        "colab": {
          "base_uri": "https://localhost:8080/"
        },
        "id": "dOF4oCTiUzYx",
        "outputId": "88dab63c-eabf-495b-81ce-156e51adc844"
      },
      "execution_count": null,
      "outputs": [
        {
          "output_type": "stream",
          "name": "stdout",
          "text": [
            "[3 3 0 0 1 3]\n"
          ]
        }
      ]
    },
    {
      "cell_type": "markdown",
      "source": [
        "searching the indeces based on conditions"
      ],
      "metadata": {
        "id": "k6a8wdSXVZWK"
      }
    },
    {
      "cell_type": "code",
      "source": [
        "s=np.array([34,56,7,17,88,91])\n",
        "print(np.where(s%2==0))\n"
      ],
      "metadata": {
        "colab": {
          "base_uri": "https://localhost:8080/"
        },
        "id": "_GBsNGTwVi-J",
        "outputId": "b8c7c54f-13e0-411b-ebb3-3315303a876d"
      },
      "execution_count": null,
      "outputs": [
        {
          "output_type": "stream",
          "name": "stdout",
          "text": [
            "(array([0, 1, 4]),)\n"
          ]
        }
      ]
    },
    {
      "cell_type": "code",
      "source": [
        "s=np.array([24,16,7,17,54,60])\n",
        "print(np.where(s%6==0))\n"
      ],
      "metadata": {
        "colab": {
          "base_uri": "https://localhost:8080/"
        },
        "id": "o-LG2sotWiec",
        "outputId": "c6349547-863f-4c18-fa5a-2f94855023da"
      },
      "execution_count": null,
      "outputs": [
        {
          "output_type": "stream",
          "name": "stdout",
          "text": [
            "(array([0, 4, 5]),)\n"
          ]
        }
      ]
    },
    {
      "cell_type": "code",
      "source": [
        "a=np.array([34,56,7,17,88,91])\n",
        "x=np.searchsorted(a,17)\n",
        "print(x)\n"
      ],
      "metadata": {
        "colab": {
          "base_uri": "https://localhost:8080/"
        },
        "id": "4fCnrw02XTTa",
        "outputId": "1e673d4e-e254-4f64-9d6a-7553813b8041"
      },
      "execution_count": null,
      "outputs": [
        {
          "output_type": "stream",
          "name": "stdout",
          "text": [
            "0\n"
          ]
        }
      ]
    },
    {
      "cell_type": "code",
      "source": [
        "f=np.array([2,3,4,5,6,7,8,9])\n",
        "g=np.searchsorted(f,7)\n",
        "print(g)\n"
      ],
      "metadata": {
        "colab": {
          "base_uri": "https://localhost:8080/"
        },
        "id": "S-peJQx0Xwlf",
        "outputId": "efeb9cbe-f4d9-446c-fcc1-9a1537fc43fe"
      },
      "execution_count": null,
      "outputs": [
        {
          "output_type": "stream",
          "name": "stdout",
          "text": [
            "5\n"
          ]
        }
      ]
    },
    {
      "cell_type": "code",
      "source": [
        "arr=np.array(['banana','cherry','apple'])\n",
        "print(np.sort(arr))"
      ],
      "metadata": {
        "colab": {
          "base_uri": "https://localhost:8080/"
        },
        "id": "Q9VuUP-MYWVc",
        "outputId": "1f62b68c-b5df-4f3c-d629-45a5d141be14"
      },
      "execution_count": null,
      "outputs": [
        {
          "output_type": "stream",
          "name": "stdout",
          "text": [
            "['apple' 'banana' 'cherry']\n"
          ]
        }
      ]
    },
    {
      "cell_type": "code",
      "source": [
        "print(np.sort(a))"
      ],
      "metadata": {
        "colab": {
          "base_uri": "https://localhost:8080/"
        },
        "id": "KX6j6cCdYyyn",
        "outputId": "d7e635f7-6e94-4b9d-85e3-44200d051b50"
      },
      "execution_count": null,
      "outputs": [
        {
          "output_type": "stream",
          "name": "stdout",
          "text": [
            "[ 7 17 34 56 88 91]\n"
          ]
        }
      ]
    },
    {
      "cell_type": "code",
      "source": [
        "err=np.array([[3,2,4],[5,0,1]])\n",
        "print(np.sort(err))"
      ],
      "metadata": {
        "colab": {
          "base_uri": "https://localhost:8080/"
        },
        "id": "pV9hkEYDY8Je",
        "outputId": "41dc9c7e-85fb-4923-e294-af17d74f02bb"
      },
      "execution_count": null,
      "outputs": [
        {
          "output_type": "stream",
          "name": "stdout",
          "text": [
            "[[2 3 4]\n",
            " [0 1 5]]\n"
          ]
        }
      ]
    },
    {
      "cell_type": "code",
      "source": [
        "bo=np.array([True,False,True])\n",
        "print(np.sort(bo))"
      ],
      "metadata": {
        "colab": {
          "base_uri": "https://localhost:8080/"
        },
        "id": "uAgBgsfBZseK",
        "outputId": "de92104f-5054-4fda-c18c-445fe87880bc"
      },
      "execution_count": null,
      "outputs": [
        {
          "output_type": "stream",
          "name": "stdout",
          "text": [
            "[False  True  True]\n"
          ]
        }
      ]
    },
    {
      "cell_type": "code",
      "source": [
        "trr=np.array([40,42,50,44,67,78])\n",
        "filrt=np.where(trr%2==0)\n",
        "print(filrt)"
      ],
      "metadata": {
        "colab": {
          "base_uri": "https://localhost:8080/"
        },
        "id": "UobHFSQ7aDXy",
        "outputId": "12efc479-d944-4093-ce1d-2587ee5ebb4c"
      },
      "execution_count": null,
      "outputs": [
        {
          "output_type": "stream",
          "name": "stdout",
          "text": [
            "(array([0, 1, 2, 3, 5]),)\n"
          ]
        }
      ]
    },
    {
      "cell_type": "code",
      "source": [
        "trr[filrt]"
      ],
      "metadata": {
        "colab": {
          "base_uri": "https://localhost:8080/"
        },
        "id": "n--JkdpncQXD",
        "outputId": "19230038-9941-4422-ce61-2fcfb449a342"
      },
      "execution_count": null,
      "outputs": [
        {
          "output_type": "execute_result",
          "data": {
            "text/plain": [
              "array([40, 42, 50, 44, 78])"
            ]
          },
          "metadata": {},
          "execution_count": 95
        }
      ]
    },
    {
      "cell_type": "code",
      "source": [
        "names=np.array([\"veen\",\"lah\",\"tej\",\"kus\",\"kav\",\"var\",\"sadh\"])\n",
        "initials=np.array([\"j\",\"y\",\"e\",\"b\",\"t\",\"v\",\"m\"])\n",
        "for i,j in zip(initials,names):\n",
        "  print(i,\".\",j)"
      ],
      "metadata": {
        "colab": {
          "base_uri": "https://localhost:8080/"
        },
        "id": "faZZxYjeeblo",
        "outputId": "de50e4be-0c5b-4c67-b6b3-7e56c53e06ab"
      },
      "execution_count": null,
      "outputs": [
        {
          "output_type": "stream",
          "name": "stdout",
          "text": [
            "j . veen\n",
            "y . lah\n",
            "e . tej\n",
            "b . kus\n",
            "t . kav\n",
            "v . var\n",
            "m . sadh\n"
          ]
        }
      ]
    },
    {
      "cell_type": "code",
      "source": [
        "a1=np.array([10,20,30,40,50,60])\n",
        "a2=np.array([20,21,22,23,24,25])\n",
        "n1=np.multiply(a1,a2)\n",
        "print(n1)"
      ],
      "metadata": {
        "colab": {
          "base_uri": "https://localhost:8080/"
        },
        "id": "T62ldxtPg5GM",
        "outputId": "8cd6bc95-a7a3-4295-bed8-91c0344af4c6"
      },
      "execution_count": null,
      "outputs": [
        {
          "output_type": "stream",
          "name": "stdout",
          "text": [
            "[ 200  420  660  920 1200 1500]\n"
          ]
        }
      ]
    },
    {
      "cell_type": "code",
      "source": [
        "a1=np.array([10,20,30,40,50,60])\n",
        "a2=np.array([20,21,22,23,24,25])\n",
        "n2=np.divide(a1,a2)\n",
        "print(n2)\n"
      ],
      "metadata": {
        "colab": {
          "base_uri": "https://localhost:8080/"
        },
        "id": "iQUkYxdwhTjh",
        "outputId": "cddedf22-c6e7-43cb-80a0-b44487a01c9f"
      },
      "execution_count": null,
      "outputs": [
        {
          "output_type": "stream",
          "name": "stdout",
          "text": [
            "[0.5        0.95238095 1.36363636 1.73913043 2.08333333 2.4       ]\n"
          ]
        }
      ]
    },
    {
      "cell_type": "code",
      "source": [
        "a1=np.array([10,20,30,40,50,60])\n",
        "a2=np.array([20,21,22,23,24,25])\n",
        "n3=np.mod(a1,a2)\n",
        "print(n3)"
      ],
      "metadata": {
        "colab": {
          "base_uri": "https://localhost:8080/"
        },
        "id": "6XqUBFq1hkT9",
        "outputId": "5672fa51-37b7-4f8d-d865-2196ae330d8d"
      },
      "execution_count": null,
      "outputs": [
        {
          "output_type": "stream",
          "name": "stdout",
          "text": [
            "[10 20  8 17  2 10]\n"
          ]
        }
      ]
    },
    {
      "cell_type": "code",
      "source": [
        "a1=np.array([10,20,30,40,50,60])\n",
        "a2=np.array([20,21,22,23,24,25])\n",
        "n4=np.divmod(a1,a2)\n",
        "print(n4)"
      ],
      "metadata": {
        "colab": {
          "base_uri": "https://localhost:8080/"
        },
        "id": "jqwilmSyhrXC",
        "outputId": "3caf94df-4d93-4f3e-8f8f-e999986537c8"
      },
      "execution_count": null,
      "outputs": [
        {
          "output_type": "stream",
          "name": "stdout",
          "text": [
            "(array([0, 0, 1, 1, 2, 2]), array([10, 20,  8, 17,  2, 10]))\n"
          ]
        }
      ]
    },
    {
      "cell_type": "markdown",
      "source": [
        "logerthims"
      ],
      "metadata": {
        "id": "N5TU-_PAiPT1"
      }
    },
    {
      "cell_type": "code",
      "source": [
        "a1=np.arange(1,10)\n",
        "print(a1)\n",
        "print(np.log10(a1))"
      ],
      "metadata": {
        "colab": {
          "base_uri": "https://localhost:8080/"
        },
        "id": "hDIjY7tuiSBA",
        "outputId": "bd60bb46-713f-4184-ab3c-d513b16f725c"
      },
      "execution_count": null,
      "outputs": [
        {
          "output_type": "stream",
          "name": "stdout",
          "text": [
            "[1 2 3 4 5 6 7 8 9]\n",
            "[0.         0.30103    0.47712125 0.60205999 0.69897    0.77815125\n",
            " 0.84509804 0.90308999 0.95424251]\n"
          ]
        }
      ]
    },
    {
      "cell_type": "code",
      "source": [
        "q=1.2\n",
        "print(np.log(q))"
      ],
      "metadata": {
        "colab": {
          "base_uri": "https://localhost:8080/"
        },
        "id": "PjpSAK9vjAls",
        "outputId": "010931b1-322b-46ce-c3a0-5bbbf18cc8a6"
      },
      "execution_count": null,
      "outputs": [
        {
          "output_type": "stream",
          "name": "stdout",
          "text": [
            "0.1823215567939546\n"
          ]
        }
      ]
    },
    {
      "cell_type": "code",
      "source": [
        "q=1.2\n",
        "print(np.log2(q))"
      ],
      "metadata": {
        "colab": {
          "base_uri": "https://localhost:8080/"
        },
        "id": "QWqc5GjLjatZ",
        "outputId": "0b045cc1-dcfa-45d6-8b45-36c7848d52b4"
      },
      "execution_count": null,
      "outputs": [
        {
          "output_type": "stream",
          "name": "stdout",
          "text": [
            "0.2630344058337938\n"
          ]
        }
      ]
    },
    {
      "cell_type": "code",
      "source": [
        "q=1.2\n",
        "print(np.log10(q))"
      ],
      "metadata": {
        "colab": {
          "base_uri": "https://localhost:8080/"
        },
        "id": "Ui2HV-83jjQz",
        "outputId": "6634004c-066c-4452-86a4-c6c38890dd62"
      },
      "execution_count": null,
      "outputs": [
        {
          "output_type": "stream",
          "name": "stdout",
          "text": [
            "0.07918124604762482\n"
          ]
        }
      ]
    },
    {
      "cell_type": "code",
      "source": [
        "print(np.log(a2))"
      ],
      "metadata": {
        "colab": {
          "base_uri": "https://localhost:8080/"
        },
        "id": "LIoE1hAcjsG_",
        "outputId": "c2d09a84-8d5d-43ce-9ef6-419a11704179"
      },
      "execution_count": null,
      "outputs": [
        {
          "output_type": "stream",
          "name": "stdout",
          "text": [
            "[2.99573227 3.04452244 3.09104245 3.13549422 3.17805383 3.21887582]\n"
          ]
        }
      ]
    },
    {
      "cell_type": "code",
      "source": [
        "print(np.log2(a2))"
      ],
      "metadata": {
        "colab": {
          "base_uri": "https://localhost:8080/"
        },
        "id": "jGqD9ej5kP2Q",
        "outputId": "b8ea2aa7-c92a-4753-b8a3-e69eb44248ad"
      },
      "execution_count": null,
      "outputs": [
        {
          "output_type": "stream",
          "name": "stdout",
          "text": [
            "[4.32192809 4.39231742 4.45943162 4.52356196 4.5849625  4.64385619]\n"
          ]
        }
      ]
    },
    {
      "cell_type": "code",
      "source": [
        "print(np.log10(a2))"
      ],
      "metadata": {
        "colab": {
          "base_uri": "https://localhost:8080/"
        },
        "id": "jZ8gz4fYkV-3",
        "outputId": "3a5aaa15-0c1d-4135-8f98-271bbcebb6ac"
      },
      "execution_count": null,
      "outputs": [
        {
          "output_type": "stream",
          "name": "stdout",
          "text": [
            "[1.30103    1.32221929 1.34242268 1.36172784 1.38021124 1.39794001]\n"
          ]
        }
      ]
    },
    {
      "cell_type": "code",
      "source": [
        "y=np.array([5,6,7,10])\n",
        "x=np.cumsum(y)\n",
        "print(x)"
      ],
      "metadata": {
        "colab": {
          "base_uri": "https://localhost:8080/"
        },
        "id": "q6eeEEFNl8uc",
        "outputId": "17490a74-b7f1-44cf-c1df-aac3030affb5"
      },
      "execution_count": null,
      "outputs": [
        {
          "output_type": "stream",
          "name": "stdout",
          "text": [
            "[ 5 11 18 28]\n"
          ]
        }
      ]
    },
    {
      "cell_type": "code",
      "source": [
        "y=np.array([5,6,7,10])\n",
        "x=np.cumprod(y)\n",
        "print(x)"
      ],
      "metadata": {
        "colab": {
          "base_uri": "https://localhost:8080/"
        },
        "id": "pXJaxzTPkey-",
        "outputId": "daac98dd-bd45-46e8-d7a5-7d052c04964e"
      },
      "execution_count": null,
      "outputs": [
        {
          "output_type": "stream",
          "name": "stdout",
          "text": [
            "[   5   30  210 2100]\n"
          ]
        }
      ]
    },
    {
      "cell_type": "code",
      "source": [
        "y=np.array([15,25,15,10])\n",
        "x=np.diff(y)\n",
        "print(x)"
      ],
      "metadata": {
        "colab": {
          "base_uri": "https://localhost:8080/"
        },
        "id": "gzbSJHHukxH0",
        "outputId": "397e216d-c245-4848-d2c2-a00d79deb58c"
      },
      "execution_count": null,
      "outputs": [
        {
          "output_type": "stream",
          "name": "stdout",
          "text": [
            "[ 10 -10  -5]\n"
          ]
        }
      ]
    },
    {
      "cell_type": "code",
      "source": [
        "num1=455\n",
        "num2=665\n",
        "v=np.lcm(num1,num2)\n",
        "print(v)"
      ],
      "metadata": {
        "colab": {
          "base_uri": "https://localhost:8080/"
        },
        "id": "1jp8rbXFlDpF",
        "outputId": "ca0105ff-e23d-44e6-ff97-a336a98570b5"
      },
      "execution_count": null,
      "outputs": [
        {
          "output_type": "stream",
          "name": "stdout",
          "text": [
            "8645\n"
          ]
        }
      ]
    },
    {
      "cell_type": "code",
      "source": [
        "num1=455\n",
        "num2=665\n",
        "v=np.gcd(num1,num2)\n",
        "print(v)"
      ],
      "metadata": {
        "colab": {
          "base_uri": "https://localhost:8080/"
        },
        "id": "dduKMQuilTvT",
        "outputId": "259068e5-9457-46d2-ab41-8a56fdf9af86"
      },
      "execution_count": null,
      "outputs": [
        {
          "output_type": "stream",
          "name": "stdout",
          "text": [
            "35\n"
          ]
        }
      ]
    },
    {
      "cell_type": "code",
      "source": [
        "a=np.array([12,15,60])\n",
        "g=np.gcd.reduce(a)\n",
        "print(g)"
      ],
      "metadata": {
        "colab": {
          "base_uri": "https://localhost:8080/"
        },
        "id": "MnIemaxLlbqd",
        "outputId": "c1cad3c9-7edf-4632-d7a5-6d883529e5e1"
      },
      "execution_count": null,
      "outputs": [
        {
          "output_type": "stream",
          "name": "stdout",
          "text": [
            "3\n"
          ]
        }
      ]
    },
    {
      "cell_type": "code",
      "source": [
        "a=np.array([12,15,60])\n",
        "g=np.lcm.reduce(a)\n",
        "print(g)"
      ],
      "metadata": {
        "id": "dCBWGiPnnQXe",
        "outputId": "5fd68065-96a9-48c5-bf35-71f0cbf9829e",
        "colab": {
          "base_uri": "https://localhost:8080/"
        }
      },
      "execution_count": null,
      "outputs": [
        {
          "output_type": "stream",
          "name": "stdout",
          "text": [
            "60\n"
          ]
        }
      ]
    }
  ]
}